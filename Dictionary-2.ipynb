{
 "cells": [
  {
   "cell_type": "markdown",
   "metadata": {},
   "source": [
    "# Sphoorthi Oum"
   ]
  },
  {
   "cell_type": "markdown",
   "metadata": {},
   "source": [
    "### Sphoorthi Free Classes 2020 - Python"
   ]
  },
  {
   "cell_type": "code",
   "execution_count": 2,
   "metadata": {},
   "outputs": [
    {
     "name": "stdout",
     "output_type": "stream",
     "text": [
      "Sphoorthi Oum\n"
     ]
    }
   ],
   "source": [
    "print(\"Sphoorthi Oum\")"
   ]
  },
  {
   "cell_type": "code",
   "execution_count": 3,
   "metadata": {},
   "outputs": [
    {
     "name": "stdout",
     "output_type": "stream",
     "text": [
      "python\n"
     ]
    }
   ],
   "source": [
    "print('python')"
   ]
  },
  {
   "cell_type": "code",
   "execution_count": 4,
   "metadata": {},
   "outputs": [
    {
     "name": "stdout",
     "output_type": "stream",
     "text": [
      "SriSriSri\n"
     ]
    }
   ],
   "source": [
    "print('SriSriSri')"
   ]
  },
  {
   "cell_type": "code",
   "execution_count": 5,
   "metadata": {},
   "outputs": [
    {
     "data": {
      "text/plain": [
       "-1"
      ]
     },
     "execution_count": 5,
     "metadata": {},
     "output_type": "execute_result"
    }
   ],
   "source": [
    "1-2"
   ]
  },
  {
   "cell_type": "code",
   "execution_count": 6,
   "metadata": {},
   "outputs": [],
   "source": [
    "weather={\n",
    "    \"city\": {\n",
    "        \"id\": 1262180,\n",
    "        \"name\": \"Nagpur\",\n",
    "        \"coord\": {\n",
    "            \"lon\": 79.1,\n",
    "            \"lat\": 21.15\n",
    "        },\n",
    "        \"country\": \"IN\",\n",
    "        \"population\": 2228018,\n",
    "        \"timezone\": 19800\n",
    "    },\n",
    "    \"cod\": \"200\",\n",
    "    \"message\": 5.1897859,\n",
    "    \"cnt\": 10,\n",
    "    \"list\": [\n",
    "        {\n",
    "            \"dt\": 1590301800,\n",
    "            \"sunrise\": 1590278576,\n",
    "            \"sunset\": 1590326298,\n",
    "            \"temp\": {\n",
    "                \"day\": 40.63,\n",
    "                \"min\": 36.72,\n",
    "                \"max\": 44.16,\n",
    "                \"night\": 36.72,\n",
    "                \"eve\": 44.16,\n",
    "                \"morn\": 37\n",
    "            },\n",
    "            \"feels_like\": {\n",
    "                \"day\": 36.22,\n",
    "                \"night\": 31.7,\n",
    "                \"eve\": 38.62,\n",
    "                \"morn\": 31.87\n",
    "            },\n",
    "            \"pressure\": 1007,\n",
    "            \"humidity\": 10,\n",
    "            \"weather\": [\n",
    "                {\n",
    "                    \"id\": 801,\n",
    "                    \"main\": \"Clouds\",\n",
    "                    \"description\": \"few clouds\",\n",
    "                    \"icon\": \"02d\"\n",
    "                }\n",
    "            ],\n",
    "            \"speed\": 4.17,\n",
    "            \"deg\": 330,\n",
    "            \"clouds\": 23\n",
    "        },\n",
    "        {\n",
    "            \"dt\": 1590388200,\n",
    "            \"sunrise\": 1590364962,\n",
    "            \"sunset\": 1590412724,\n",
    "            \"temp\": {\n",
    "                \"day\": 44.82,\n",
    "                \"min\": 32.44,\n",
    "                \"max\": 46.53,\n",
    "                \"night\": 37.65,\n",
    "                \"eve\": 45.54,\n",
    "                \"morn\": 32.44\n",
    "            },\n",
    "            \"feels_like\": {\n",
    "                \"day\": 42.28,\n",
    "                \"night\": 32.23,\n",
    "                \"eve\": 40.52,\n",
    "                \"morn\": 30.19\n",
    "            },\n",
    "            \"pressure\": 1004,\n",
    "            \"humidity\": 8,\n",
    "            \"weather\": [\n",
    "                {\n",
    "                    \"id\": 800,\n",
    "                    \"main\": \"Clear\",\n",
    "                    \"description\": \"sky is clear\",\n",
    "                    \"icon\": \"01d\"\n",
    "                }\n",
    "            ],\n",
    "            \"speed\": 1.48,\n",
    "            \"deg\": 334,\n",
    "            \"clouds\": 0\n",
    "        },\n",
    "        {\n",
    "            \"dt\": 1590474600,\n",
    "            \"sunrise\": 1590451350,\n",
    "            \"sunset\": 1590499149,\n",
    "            \"temp\": {\n",
    "                \"day\": 44.98,\n",
    "                \"min\": 32.87,\n",
    "                \"max\": 47.37,\n",
    "                \"night\": 38,\n",
    "                \"eve\": 45.8,\n",
    "                \"morn\": 32.87\n",
    "            },\n",
    "            \"feels_like\": {\n",
    "                \"day\": 41.17,\n",
    "                \"night\": 31.97,\n",
    "                \"eve\": 40.15,\n",
    "                \"morn\": 30.61\n",
    "            },\n",
    "            \"pressure\": 1004,\n",
    "            \"humidity\": 8,\n",
    "            \"weather\": [\n",
    "                {\n",
    "                    \"id\": 801,\n",
    "                    \"main\": \"Clouds\",\n",
    "                    \"description\": \"few clouds\",\n",
    "                    \"icon\": \"02d\"\n",
    "                }\n",
    "            ],\n",
    "            \"speed\": 3.33,\n",
    "            \"deg\": 299,\n",
    "            \"clouds\": 16\n",
    "        },\n",
    "        {\n",
    "            \"dt\": 1590561000,\n",
    "            \"sunrise\": 1590537738,\n",
    "            \"sunset\": 1590585575,\n",
    "            \"temp\": {\n",
    "                \"day\": 44.51,\n",
    "                \"min\": 33.37,\n",
    "                \"max\": 47.06,\n",
    "                \"night\": 35.82,\n",
    "                \"eve\": 45.13,\n",
    "                \"morn\": 33.37\n",
    "            },\n",
    "            \"feels_like\": {\n",
    "                \"day\": 40.39,\n",
    "                \"night\": 30.74,\n",
    "                \"eve\": 38.02,\n",
    "                \"morn\": 27.4\n",
    "            },\n",
    "            \"pressure\": 1003,\n",
    "            \"humidity\": 10,\n",
    "            \"weather\": [\n",
    "                {\n",
    "                    \"id\": 802,\n",
    "                    \"main\": \"Clouds\",\n",
    "                    \"description\": \"scattered clouds\",\n",
    "                    \"icon\": \"03d\"\n",
    "                }\n",
    "            ],\n",
    "            \"speed\": 4.56,\n",
    "            \"deg\": 277,\n",
    "            \"clouds\": 30\n",
    "        },\n",
    "        {\n",
    "            \"dt\": 1590647400,\n",
    "            \"sunrise\": 1590624128,\n",
    "            \"sunset\": 1590672000,\n",
    "            \"temp\": {\n",
    "                \"day\": 42.82,\n",
    "                \"min\": 31.89,\n",
    "                \"max\": 46.11,\n",
    "                \"night\": 36.35,\n",
    "                \"eve\": 44,\n",
    "                \"morn\": 31.89\n",
    "            },\n",
    "            \"feels_like\": {\n",
    "                \"day\": 39.76,\n",
    "                \"night\": 32.28,\n",
    "                \"eve\": 38.59,\n",
    "                \"morn\": 28.41\n",
    "            },\n",
    "            \"pressure\": 1003,\n",
    "            \"humidity\": 15,\n",
    "            \"weather\": [\n",
    "                {\n",
    "                    \"id\": 800,\n",
    "                    \"main\": \"Clear\",\n",
    "                    \"description\": \"sky is clear\",\n",
    "                    \"icon\": \"01d\"\n",
    "                }\n",
    "            ],\n",
    "            \"speed\": 4.68,\n",
    "            \"deg\": 270,\n",
    "            \"clouds\": 0\n",
    "        },\n",
    "        {\n",
    "            \"dt\": 1590733800,\n",
    "            \"sunrise\": 1590710518,\n",
    "            \"sunset\": 1590758425,\n",
    "            \"temp\": {\n",
    "                \"day\": 41.87,\n",
    "                \"min\": 31.85,\n",
    "                \"max\": 44.12,\n",
    "                \"night\": 35.61,\n",
    "                \"eve\": 43.19,\n",
    "                \"morn\": 31.85\n",
    "            },\n",
    "            \"feels_like\": {\n",
    "                \"day\": 40.14,\n",
    "                \"night\": 32.79,\n",
    "                \"eve\": 38.34,\n",
    "                \"morn\": 28.43\n",
    "            },\n",
    "            \"pressure\": 1004,\n",
    "            \"humidity\": 18,\n",
    "            \"weather\": [\n",
    "                {\n",
    "                    \"id\": 800,\n",
    "                    \"main\": \"Clear\",\n",
    "                    \"description\": \"sky is clear\",\n",
    "                    \"icon\": \"01d\"\n",
    "                }\n",
    "            ],\n",
    "            \"speed\": 3.64,\n",
    "            \"deg\": 256,\n",
    "            \"clouds\": 0\n",
    "        },\n",
    "        {\n",
    "            \"dt\": 1590820200,\n",
    "            \"sunrise\": 1590796910,\n",
    "            \"sunset\": 1590844850,\n",
    "            \"temp\": {\n",
    "                \"day\": 41.3,\n",
    "                \"min\": 32.13,\n",
    "                \"max\": 43.84,\n",
    "                \"night\": 36.37,\n",
    "                \"eve\": 40.47,\n",
    "                \"morn\": 32.13\n",
    "            },\n",
    "            \"feels_like\": {\n",
    "                \"day\": 40.67,\n",
    "                \"night\": 35.55,\n",
    "                \"eve\": 38.71,\n",
    "                \"morn\": 30.67\n",
    "            },\n",
    "            \"pressure\": 1006,\n",
    "            \"humidity\": 19,\n",
    "            \"weather\": [\n",
    "                {\n",
    "                    \"id\": 500,\n",
    "                    \"main\": \"Rain\",\n",
    "                    \"description\": \"light rain\",\n",
    "                    \"icon\": \"10d\"\n",
    "                }\n",
    "            ],\n",
    "            \"speed\": 2.23,\n",
    "            \"deg\": 316,\n",
    "            \"clouds\": 14,\n",
    "            \"rain\": 0.25\n",
    "        },\n",
    "        {\n",
    "            \"dt\": 1590906600,\n",
    "            \"sunrise\": 1590883302,\n",
    "            \"sunset\": 1590931275,\n",
    "            \"temp\": {\n",
    "                \"day\": 40.84,\n",
    "                \"min\": 33.88,\n",
    "                \"max\": 42.22,\n",
    "                \"night\": 33.88,\n",
    "                \"eve\": 39.45,\n",
    "                \"morn\": 33.89\n",
    "            },\n",
    "            \"feels_like\": {\n",
    "                \"day\": 40.75,\n",
    "                \"night\": 34.51,\n",
    "                \"eve\": 39.41,\n",
    "                \"morn\": 31.85\n",
    "            },\n",
    "            \"pressure\": 1006,\n",
    "            \"humidity\": 20,\n",
    "            \"weather\": [\n",
    "                {\n",
    "                    \"id\": 500,\n",
    "                    \"main\": \"Rain\",\n",
    "                    \"description\": \"light rain\",\n",
    "                    \"icon\": \"10d\"\n",
    "                }\n",
    "            ],\n",
    "            \"speed\": 1.66,\n",
    "            \"deg\": 221,\n",
    "            \"clouds\": 42,\n",
    "            \"rain\": 2.6\n",
    "        },\n",
    "        {\n",
    "            \"dt\": 1590993000,\n",
    "            \"sunrise\": 1590969696,\n",
    "            \"sunset\": 1591017699,\n",
    "            \"temp\": {\n",
    "                \"day\": 39.8,\n",
    "                \"min\": 30.8,\n",
    "                \"max\": 41.3,\n",
    "                \"night\": 34.13,\n",
    "                \"eve\": 40.06,\n",
    "                \"morn\": 30.8\n",
    "            },\n",
    "            \"feels_like\": {\n",
    "                \"day\": 35.64,\n",
    "                \"night\": 33.45,\n",
    "                \"eve\": 36.47,\n",
    "                \"morn\": 30.59\n",
    "            },\n",
    "            \"pressure\": 1007,\n",
    "            \"humidity\": 19,\n",
    "            \"weather\": [\n",
    "                {\n",
    "                    \"id\": 500,\n",
    "                    \"main\": \"Rain\",\n",
    "                    \"description\": \"light rain\",\n",
    "                    \"icon\": \"10d\"\n",
    "                }\n",
    "            ],\n",
    "            \"speed\": 6.74,\n",
    "            \"deg\": 335,\n",
    "            \"clouds\": 68,\n",
    "            \"rain\": 2.67\n",
    "        },\n",
    "        {\n",
    "            \"dt\": 1591079400,\n",
    "            \"sunrise\": 1591056091,\n",
    "            \"sunset\": 1591104123,\n",
    "            \"temp\": {\n",
    "                \"day\": 39.4,\n",
    "                \"min\": 31.71,\n",
    "                \"max\": 41.27,\n",
    "                \"night\": 32.09,\n",
    "                \"eve\": 37.94,\n",
    "                \"morn\": 31.71\n",
    "            },\n",
    "            \"feels_like\": {\n",
    "                \"day\": 37.62,\n",
    "                \"night\": 30.6,\n",
    "                \"eve\": 36.12,\n",
    "                \"morn\": 31.35\n",
    "            },\n",
    "            \"pressure\": 1007,\n",
    "            \"humidity\": 21,\n",
    "            \"weather\": [\n",
    "                {\n",
    "                    \"id\": 801,\n",
    "                    \"main\": \"Clouds\",\n",
    "                    \"description\": \"few clouds\",\n",
    "                    \"icon\": \"02d\"\n",
    "                }\n",
    "            ],\n",
    "            \"speed\": 3.87,\n",
    "            \"deg\": 345,\n",
    "            \"clouds\": 24\n",
    "        }\n",
    "    ]\n",
    "}"
   ]
  },
  {
   "cell_type": "code",
   "execution_count": null,
   "metadata": {},
   "outputs": [],
   "source": []
  },
  {
   "cell_type": "code",
   "execution_count": 7,
   "metadata": {},
   "outputs": [
    {
     "data": {
      "text/plain": [
       "{'city': {'id': 1262180,\n",
       "  'name': 'Nagpur',\n",
       "  'coord': {'lon': 79.1, 'lat': 21.15},\n",
       "  'country': 'IN',\n",
       "  'population': 2228018,\n",
       "  'timezone': 19800},\n",
       " 'cod': '200',\n",
       " 'message': 5.1897859,\n",
       " 'cnt': 10,\n",
       " 'list': [{'dt': 1590301800,\n",
       "   'sunrise': 1590278576,\n",
       "   'sunset': 1590326298,\n",
       "   'temp': {'day': 40.63,\n",
       "    'min': 36.72,\n",
       "    'max': 44.16,\n",
       "    'night': 36.72,\n",
       "    'eve': 44.16,\n",
       "    'morn': 37},\n",
       "   'feels_like': {'day': 36.22, 'night': 31.7, 'eve': 38.62, 'morn': 31.87},\n",
       "   'pressure': 1007,\n",
       "   'humidity': 10,\n",
       "   'weather': [{'id': 801,\n",
       "     'main': 'Clouds',\n",
       "     'description': 'few clouds',\n",
       "     'icon': '02d'}],\n",
       "   'speed': 4.17,\n",
       "   'deg': 330,\n",
       "   'clouds': 23},\n",
       "  {'dt': 1590388200,\n",
       "   'sunrise': 1590364962,\n",
       "   'sunset': 1590412724,\n",
       "   'temp': {'day': 44.82,\n",
       "    'min': 32.44,\n",
       "    'max': 46.53,\n",
       "    'night': 37.65,\n",
       "    'eve': 45.54,\n",
       "    'morn': 32.44},\n",
       "   'feels_like': {'day': 42.28, 'night': 32.23, 'eve': 40.52, 'morn': 30.19},\n",
       "   'pressure': 1004,\n",
       "   'humidity': 8,\n",
       "   'weather': [{'id': 800,\n",
       "     'main': 'Clear',\n",
       "     'description': 'sky is clear',\n",
       "     'icon': '01d'}],\n",
       "   'speed': 1.48,\n",
       "   'deg': 334,\n",
       "   'clouds': 0},\n",
       "  {'dt': 1590474600,\n",
       "   'sunrise': 1590451350,\n",
       "   'sunset': 1590499149,\n",
       "   'temp': {'day': 44.98,\n",
       "    'min': 32.87,\n",
       "    'max': 47.37,\n",
       "    'night': 38,\n",
       "    'eve': 45.8,\n",
       "    'morn': 32.87},\n",
       "   'feels_like': {'day': 41.17, 'night': 31.97, 'eve': 40.15, 'morn': 30.61},\n",
       "   'pressure': 1004,\n",
       "   'humidity': 8,\n",
       "   'weather': [{'id': 801,\n",
       "     'main': 'Clouds',\n",
       "     'description': 'few clouds',\n",
       "     'icon': '02d'}],\n",
       "   'speed': 3.33,\n",
       "   'deg': 299,\n",
       "   'clouds': 16},\n",
       "  {'dt': 1590561000,\n",
       "   'sunrise': 1590537738,\n",
       "   'sunset': 1590585575,\n",
       "   'temp': {'day': 44.51,\n",
       "    'min': 33.37,\n",
       "    'max': 47.06,\n",
       "    'night': 35.82,\n",
       "    'eve': 45.13,\n",
       "    'morn': 33.37},\n",
       "   'feels_like': {'day': 40.39, 'night': 30.74, 'eve': 38.02, 'morn': 27.4},\n",
       "   'pressure': 1003,\n",
       "   'humidity': 10,\n",
       "   'weather': [{'id': 802,\n",
       "     'main': 'Clouds',\n",
       "     'description': 'scattered clouds',\n",
       "     'icon': '03d'}],\n",
       "   'speed': 4.56,\n",
       "   'deg': 277,\n",
       "   'clouds': 30},\n",
       "  {'dt': 1590647400,\n",
       "   'sunrise': 1590624128,\n",
       "   'sunset': 1590672000,\n",
       "   'temp': {'day': 42.82,\n",
       "    'min': 31.89,\n",
       "    'max': 46.11,\n",
       "    'night': 36.35,\n",
       "    'eve': 44,\n",
       "    'morn': 31.89},\n",
       "   'feels_like': {'day': 39.76, 'night': 32.28, 'eve': 38.59, 'morn': 28.41},\n",
       "   'pressure': 1003,\n",
       "   'humidity': 15,\n",
       "   'weather': [{'id': 800,\n",
       "     'main': 'Clear',\n",
       "     'description': 'sky is clear',\n",
       "     'icon': '01d'}],\n",
       "   'speed': 4.68,\n",
       "   'deg': 270,\n",
       "   'clouds': 0},\n",
       "  {'dt': 1590733800,\n",
       "   'sunrise': 1590710518,\n",
       "   'sunset': 1590758425,\n",
       "   'temp': {'day': 41.87,\n",
       "    'min': 31.85,\n",
       "    'max': 44.12,\n",
       "    'night': 35.61,\n",
       "    'eve': 43.19,\n",
       "    'morn': 31.85},\n",
       "   'feels_like': {'day': 40.14, 'night': 32.79, 'eve': 38.34, 'morn': 28.43},\n",
       "   'pressure': 1004,\n",
       "   'humidity': 18,\n",
       "   'weather': [{'id': 800,\n",
       "     'main': 'Clear',\n",
       "     'description': 'sky is clear',\n",
       "     'icon': '01d'}],\n",
       "   'speed': 3.64,\n",
       "   'deg': 256,\n",
       "   'clouds': 0},\n",
       "  {'dt': 1590820200,\n",
       "   'sunrise': 1590796910,\n",
       "   'sunset': 1590844850,\n",
       "   'temp': {'day': 41.3,\n",
       "    'min': 32.13,\n",
       "    'max': 43.84,\n",
       "    'night': 36.37,\n",
       "    'eve': 40.47,\n",
       "    'morn': 32.13},\n",
       "   'feels_like': {'day': 40.67, 'night': 35.55, 'eve': 38.71, 'morn': 30.67},\n",
       "   'pressure': 1006,\n",
       "   'humidity': 19,\n",
       "   'weather': [{'id': 500,\n",
       "     'main': 'Rain',\n",
       "     'description': 'light rain',\n",
       "     'icon': '10d'}],\n",
       "   'speed': 2.23,\n",
       "   'deg': 316,\n",
       "   'clouds': 14,\n",
       "   'rain': 0.25},\n",
       "  {'dt': 1590906600,\n",
       "   'sunrise': 1590883302,\n",
       "   'sunset': 1590931275,\n",
       "   'temp': {'day': 40.84,\n",
       "    'min': 33.88,\n",
       "    'max': 42.22,\n",
       "    'night': 33.88,\n",
       "    'eve': 39.45,\n",
       "    'morn': 33.89},\n",
       "   'feels_like': {'day': 40.75, 'night': 34.51, 'eve': 39.41, 'morn': 31.85},\n",
       "   'pressure': 1006,\n",
       "   'humidity': 20,\n",
       "   'weather': [{'id': 500,\n",
       "     'main': 'Rain',\n",
       "     'description': 'light rain',\n",
       "     'icon': '10d'}],\n",
       "   'speed': 1.66,\n",
       "   'deg': 221,\n",
       "   'clouds': 42,\n",
       "   'rain': 2.6},\n",
       "  {'dt': 1590993000,\n",
       "   'sunrise': 1590969696,\n",
       "   'sunset': 1591017699,\n",
       "   'temp': {'day': 39.8,\n",
       "    'min': 30.8,\n",
       "    'max': 41.3,\n",
       "    'night': 34.13,\n",
       "    'eve': 40.06,\n",
       "    'morn': 30.8},\n",
       "   'feels_like': {'day': 35.64, 'night': 33.45, 'eve': 36.47, 'morn': 30.59},\n",
       "   'pressure': 1007,\n",
       "   'humidity': 19,\n",
       "   'weather': [{'id': 500,\n",
       "     'main': 'Rain',\n",
       "     'description': 'light rain',\n",
       "     'icon': '10d'}],\n",
       "   'speed': 6.74,\n",
       "   'deg': 335,\n",
       "   'clouds': 68,\n",
       "   'rain': 2.67},\n",
       "  {'dt': 1591079400,\n",
       "   'sunrise': 1591056091,\n",
       "   'sunset': 1591104123,\n",
       "   'temp': {'day': 39.4,\n",
       "    'min': 31.71,\n",
       "    'max': 41.27,\n",
       "    'night': 32.09,\n",
       "    'eve': 37.94,\n",
       "    'morn': 31.71},\n",
       "   'feels_like': {'day': 37.62, 'night': 30.6, 'eve': 36.12, 'morn': 31.35},\n",
       "   'pressure': 1007,\n",
       "   'humidity': 21,\n",
       "   'weather': [{'id': 801,\n",
       "     'main': 'Clouds',\n",
       "     'description': 'few clouds',\n",
       "     'icon': '02d'}],\n",
       "   'speed': 3.87,\n",
       "   'deg': 345,\n",
       "   'clouds': 24}]}"
      ]
     },
     "execution_count": 7,
     "metadata": {},
     "output_type": "execute_result"
    }
   ],
   "source": [
    "weather"
   ]
  },
  {
   "cell_type": "code",
   "execution_count": 8,
   "metadata": {},
   "outputs": [
    {
     "data": {
      "text/plain": [
       "dict_keys(['city', 'cod', 'message', 'cnt', 'list'])"
      ]
     },
     "execution_count": 8,
     "metadata": {},
     "output_type": "execute_result"
    }
   ],
   "source": [
    "weather.keys()"
   ]
  },
  {
   "cell_type": "code",
   "execution_count": 9,
   "metadata": {},
   "outputs": [
    {
     "data": {
      "text/plain": [
       "{'id': 1262180,\n",
       " 'name': 'Nagpur',\n",
       " 'coord': {'lon': 79.1, 'lat': 21.15},\n",
       " 'country': 'IN',\n",
       " 'population': 2228018,\n",
       " 'timezone': 19800}"
      ]
     },
     "execution_count": 9,
     "metadata": {},
     "output_type": "execute_result"
    }
   ],
   "source": [
    "weather.get('city')"
   ]
  },
  {
   "cell_type": "code",
   "execution_count": 10,
   "metadata": {},
   "outputs": [
    {
     "data": {
      "text/plain": [
       "[{'dt': 1590301800,\n",
       "  'sunrise': 1590278576,\n",
       "  'sunset': 1590326298,\n",
       "  'temp': {'day': 40.63,\n",
       "   'min': 36.72,\n",
       "   'max': 44.16,\n",
       "   'night': 36.72,\n",
       "   'eve': 44.16,\n",
       "   'morn': 37},\n",
       "  'feels_like': {'day': 36.22, 'night': 31.7, 'eve': 38.62, 'morn': 31.87},\n",
       "  'pressure': 1007,\n",
       "  'humidity': 10,\n",
       "  'weather': [{'id': 801,\n",
       "    'main': 'Clouds',\n",
       "    'description': 'few clouds',\n",
       "    'icon': '02d'}],\n",
       "  'speed': 4.17,\n",
       "  'deg': 330,\n",
       "  'clouds': 23},\n",
       " {'dt': 1590388200,\n",
       "  'sunrise': 1590364962,\n",
       "  'sunset': 1590412724,\n",
       "  'temp': {'day': 44.82,\n",
       "   'min': 32.44,\n",
       "   'max': 46.53,\n",
       "   'night': 37.65,\n",
       "   'eve': 45.54,\n",
       "   'morn': 32.44},\n",
       "  'feels_like': {'day': 42.28, 'night': 32.23, 'eve': 40.52, 'morn': 30.19},\n",
       "  'pressure': 1004,\n",
       "  'humidity': 8,\n",
       "  'weather': [{'id': 800,\n",
       "    'main': 'Clear',\n",
       "    'description': 'sky is clear',\n",
       "    'icon': '01d'}],\n",
       "  'speed': 1.48,\n",
       "  'deg': 334,\n",
       "  'clouds': 0},\n",
       " {'dt': 1590474600,\n",
       "  'sunrise': 1590451350,\n",
       "  'sunset': 1590499149,\n",
       "  'temp': {'day': 44.98,\n",
       "   'min': 32.87,\n",
       "   'max': 47.37,\n",
       "   'night': 38,\n",
       "   'eve': 45.8,\n",
       "   'morn': 32.87},\n",
       "  'feels_like': {'day': 41.17, 'night': 31.97, 'eve': 40.15, 'morn': 30.61},\n",
       "  'pressure': 1004,\n",
       "  'humidity': 8,\n",
       "  'weather': [{'id': 801,\n",
       "    'main': 'Clouds',\n",
       "    'description': 'few clouds',\n",
       "    'icon': '02d'}],\n",
       "  'speed': 3.33,\n",
       "  'deg': 299,\n",
       "  'clouds': 16},\n",
       " {'dt': 1590561000,\n",
       "  'sunrise': 1590537738,\n",
       "  'sunset': 1590585575,\n",
       "  'temp': {'day': 44.51,\n",
       "   'min': 33.37,\n",
       "   'max': 47.06,\n",
       "   'night': 35.82,\n",
       "   'eve': 45.13,\n",
       "   'morn': 33.37},\n",
       "  'feels_like': {'day': 40.39, 'night': 30.74, 'eve': 38.02, 'morn': 27.4},\n",
       "  'pressure': 1003,\n",
       "  'humidity': 10,\n",
       "  'weather': [{'id': 802,\n",
       "    'main': 'Clouds',\n",
       "    'description': 'scattered clouds',\n",
       "    'icon': '03d'}],\n",
       "  'speed': 4.56,\n",
       "  'deg': 277,\n",
       "  'clouds': 30},\n",
       " {'dt': 1590647400,\n",
       "  'sunrise': 1590624128,\n",
       "  'sunset': 1590672000,\n",
       "  'temp': {'day': 42.82,\n",
       "   'min': 31.89,\n",
       "   'max': 46.11,\n",
       "   'night': 36.35,\n",
       "   'eve': 44,\n",
       "   'morn': 31.89},\n",
       "  'feels_like': {'day': 39.76, 'night': 32.28, 'eve': 38.59, 'morn': 28.41},\n",
       "  'pressure': 1003,\n",
       "  'humidity': 15,\n",
       "  'weather': [{'id': 800,\n",
       "    'main': 'Clear',\n",
       "    'description': 'sky is clear',\n",
       "    'icon': '01d'}],\n",
       "  'speed': 4.68,\n",
       "  'deg': 270,\n",
       "  'clouds': 0},\n",
       " {'dt': 1590733800,\n",
       "  'sunrise': 1590710518,\n",
       "  'sunset': 1590758425,\n",
       "  'temp': {'day': 41.87,\n",
       "   'min': 31.85,\n",
       "   'max': 44.12,\n",
       "   'night': 35.61,\n",
       "   'eve': 43.19,\n",
       "   'morn': 31.85},\n",
       "  'feels_like': {'day': 40.14, 'night': 32.79, 'eve': 38.34, 'morn': 28.43},\n",
       "  'pressure': 1004,\n",
       "  'humidity': 18,\n",
       "  'weather': [{'id': 800,\n",
       "    'main': 'Clear',\n",
       "    'description': 'sky is clear',\n",
       "    'icon': '01d'}],\n",
       "  'speed': 3.64,\n",
       "  'deg': 256,\n",
       "  'clouds': 0},\n",
       " {'dt': 1590820200,\n",
       "  'sunrise': 1590796910,\n",
       "  'sunset': 1590844850,\n",
       "  'temp': {'day': 41.3,\n",
       "   'min': 32.13,\n",
       "   'max': 43.84,\n",
       "   'night': 36.37,\n",
       "   'eve': 40.47,\n",
       "   'morn': 32.13},\n",
       "  'feels_like': {'day': 40.67, 'night': 35.55, 'eve': 38.71, 'morn': 30.67},\n",
       "  'pressure': 1006,\n",
       "  'humidity': 19,\n",
       "  'weather': [{'id': 500,\n",
       "    'main': 'Rain',\n",
       "    'description': 'light rain',\n",
       "    'icon': '10d'}],\n",
       "  'speed': 2.23,\n",
       "  'deg': 316,\n",
       "  'clouds': 14,\n",
       "  'rain': 0.25},\n",
       " {'dt': 1590906600,\n",
       "  'sunrise': 1590883302,\n",
       "  'sunset': 1590931275,\n",
       "  'temp': {'day': 40.84,\n",
       "   'min': 33.88,\n",
       "   'max': 42.22,\n",
       "   'night': 33.88,\n",
       "   'eve': 39.45,\n",
       "   'morn': 33.89},\n",
       "  'feels_like': {'day': 40.75, 'night': 34.51, 'eve': 39.41, 'morn': 31.85},\n",
       "  'pressure': 1006,\n",
       "  'humidity': 20,\n",
       "  'weather': [{'id': 500,\n",
       "    'main': 'Rain',\n",
       "    'description': 'light rain',\n",
       "    'icon': '10d'}],\n",
       "  'speed': 1.66,\n",
       "  'deg': 221,\n",
       "  'clouds': 42,\n",
       "  'rain': 2.6},\n",
       " {'dt': 1590993000,\n",
       "  'sunrise': 1590969696,\n",
       "  'sunset': 1591017699,\n",
       "  'temp': {'day': 39.8,\n",
       "   'min': 30.8,\n",
       "   'max': 41.3,\n",
       "   'night': 34.13,\n",
       "   'eve': 40.06,\n",
       "   'morn': 30.8},\n",
       "  'feels_like': {'day': 35.64, 'night': 33.45, 'eve': 36.47, 'morn': 30.59},\n",
       "  'pressure': 1007,\n",
       "  'humidity': 19,\n",
       "  'weather': [{'id': 500,\n",
       "    'main': 'Rain',\n",
       "    'description': 'light rain',\n",
       "    'icon': '10d'}],\n",
       "  'speed': 6.74,\n",
       "  'deg': 335,\n",
       "  'clouds': 68,\n",
       "  'rain': 2.67},\n",
       " {'dt': 1591079400,\n",
       "  'sunrise': 1591056091,\n",
       "  'sunset': 1591104123,\n",
       "  'temp': {'day': 39.4,\n",
       "   'min': 31.71,\n",
       "   'max': 41.27,\n",
       "   'night': 32.09,\n",
       "   'eve': 37.94,\n",
       "   'morn': 31.71},\n",
       "  'feels_like': {'day': 37.62, 'night': 30.6, 'eve': 36.12, 'morn': 31.35},\n",
       "  'pressure': 1007,\n",
       "  'humidity': 21,\n",
       "  'weather': [{'id': 801,\n",
       "    'main': 'Clouds',\n",
       "    'description': 'few clouds',\n",
       "    'icon': '02d'}],\n",
       "  'speed': 3.87,\n",
       "  'deg': 345,\n",
       "  'clouds': 24}]"
      ]
     },
     "execution_count": 10,
     "metadata": {},
     "output_type": "execute_result"
    }
   ],
   "source": [
    "weather.get('list')"
   ]
  },
  {
   "cell_type": "code",
   "execution_count": 11,
   "metadata": {},
   "outputs": [
    {
     "data": {
      "text/plain": [
       "list"
      ]
     },
     "execution_count": 11,
     "metadata": {},
     "output_type": "execute_result"
    }
   ],
   "source": [
    "type(weather.get('list'))"
   ]
  },
  {
   "cell_type": "code",
   "execution_count": 12,
   "metadata": {},
   "outputs": [
    {
     "data": {
      "text/plain": [
       "{'dt': 1590301800,\n",
       " 'sunrise': 1590278576,\n",
       " 'sunset': 1590326298,\n",
       " 'temp': {'day': 40.63,\n",
       "  'min': 36.72,\n",
       "  'max': 44.16,\n",
       "  'night': 36.72,\n",
       "  'eve': 44.16,\n",
       "  'morn': 37},\n",
       " 'feels_like': {'day': 36.22, 'night': 31.7, 'eve': 38.62, 'morn': 31.87},\n",
       " 'pressure': 1007,\n",
       " 'humidity': 10,\n",
       " 'weather': [{'id': 801,\n",
       "   'main': 'Clouds',\n",
       "   'description': 'few clouds',\n",
       "   'icon': '02d'}],\n",
       " 'speed': 4.17,\n",
       " 'deg': 330,\n",
       " 'clouds': 23}"
      ]
     },
     "execution_count": 12,
     "metadata": {},
     "output_type": "execute_result"
    }
   ],
   "source": [
    "weather.get('list')[0]"
   ]
  },
  {
   "cell_type": "code",
   "execution_count": 26,
   "metadata": {},
   "outputs": [
    {
     "data": {
      "text/plain": [
       "[{'id': 801, 'main': 'Clouds', 'description': 'few clouds', 'icon': '02d'}]"
      ]
     },
     "execution_count": 26,
     "metadata": {},
     "output_type": "execute_result"
    }
   ],
   "source": [
    "weather.get('list')[0].get('weather','Key Error')"
   ]
  },
  {
   "cell_type": "code",
   "execution_count": 27,
   "metadata": {},
   "outputs": [
    {
     "data": {
      "text/plain": [
       "list"
      ]
     },
     "execution_count": 27,
     "metadata": {},
     "output_type": "execute_result"
    }
   ],
   "source": [
    "type(weather.get('list')[0].get('weather','Key Error'))"
   ]
  },
  {
   "cell_type": "code",
   "execution_count": 28,
   "metadata": {},
   "outputs": [
    {
     "data": {
      "text/plain": [
       "{'id': 801, 'main': 'Clouds', 'description': 'few clouds', 'icon': '02d'}"
      ]
     },
     "execution_count": 28,
     "metadata": {},
     "output_type": "execute_result"
    }
   ],
   "source": [
    "weather.get('list')[0].get('weather','Key Error')[0]"
   ]
  },
  {
   "cell_type": "code",
   "execution_count": 30,
   "metadata": {},
   "outputs": [
    {
     "data": {
      "text/plain": [
       "'few clouds'"
      ]
     },
     "execution_count": 30,
     "metadata": {},
     "output_type": "execute_result"
    }
   ],
   "source": [
    "weather.get('list')[0].get('weather')[0].get('description')"
   ]
  },
  {
   "cell_type": "code",
   "execution_count": 13,
   "metadata": {},
   "outputs": [
    {
     "data": {
      "text/plain": [
       "{'day': 40.63,\n",
       " 'min': 36.72,\n",
       " 'max': 44.16,\n",
       " 'night': 36.72,\n",
       " 'eve': 44.16,\n",
       " 'morn': 37}"
      ]
     },
     "execution_count": 13,
     "metadata": {},
     "output_type": "execute_result"
    }
   ],
   "source": [
    "weather.get('list')[0].get('temp')"
   ]
  },
  {
   "cell_type": "code",
   "execution_count": 14,
   "metadata": {},
   "outputs": [
    {
     "data": {
      "text/plain": [
       "36.72"
      ]
     },
     "execution_count": 14,
     "metadata": {},
     "output_type": "execute_result"
    }
   ],
   "source": [
    "weather.get('list')[0].get('temp').get('min')"
   ]
  },
  {
   "cell_type": "code",
   "execution_count": 15,
   "metadata": {},
   "outputs": [
    {
     "data": {
      "text/plain": [
       "44.16"
      ]
     },
     "execution_count": 15,
     "metadata": {},
     "output_type": "execute_result"
    }
   ],
   "source": [
    "weather.get('list')[0].get('temp').get('max')"
   ]
  },
  {
   "cell_type": "code",
   "execution_count": 16,
   "metadata": {},
   "outputs": [
    {
     "name": "stdout",
     "output_type": "stream",
     "text": [
      "<class 'dict'>\n",
      "<class 'dict'>\n",
      "<class 'dict'>\n",
      "<class 'dict'>\n",
      "<class 'dict'>\n",
      "<class 'dict'>\n",
      "<class 'dict'>\n",
      "<class 'dict'>\n",
      "<class 'dict'>\n",
      "<class 'dict'>\n"
     ]
    }
   ],
   "source": [
    "for each in weather.get('list'):\n",
    "    print(type(each))"
   ]
  },
  {
   "cell_type": "code",
   "execution_count": 17,
   "metadata": {},
   "outputs": [
    {
     "name": "stdout",
     "output_type": "stream",
     "text": [
      "dict_keys(['dt', 'sunrise', 'sunset', 'temp', 'feels_like', 'pressure', 'humidity', 'weather', 'speed', 'deg', 'clouds'])\n",
      "dict_keys(['dt', 'sunrise', 'sunset', 'temp', 'feels_like', 'pressure', 'humidity', 'weather', 'speed', 'deg', 'clouds'])\n",
      "dict_keys(['dt', 'sunrise', 'sunset', 'temp', 'feels_like', 'pressure', 'humidity', 'weather', 'speed', 'deg', 'clouds'])\n",
      "dict_keys(['dt', 'sunrise', 'sunset', 'temp', 'feels_like', 'pressure', 'humidity', 'weather', 'speed', 'deg', 'clouds'])\n",
      "dict_keys(['dt', 'sunrise', 'sunset', 'temp', 'feels_like', 'pressure', 'humidity', 'weather', 'speed', 'deg', 'clouds'])\n",
      "dict_keys(['dt', 'sunrise', 'sunset', 'temp', 'feels_like', 'pressure', 'humidity', 'weather', 'speed', 'deg', 'clouds'])\n",
      "dict_keys(['dt', 'sunrise', 'sunset', 'temp', 'feels_like', 'pressure', 'humidity', 'weather', 'speed', 'deg', 'clouds', 'rain'])\n",
      "dict_keys(['dt', 'sunrise', 'sunset', 'temp', 'feels_like', 'pressure', 'humidity', 'weather', 'speed', 'deg', 'clouds', 'rain'])\n",
      "dict_keys(['dt', 'sunrise', 'sunset', 'temp', 'feels_like', 'pressure', 'humidity', 'weather', 'speed', 'deg', 'clouds', 'rain'])\n",
      "dict_keys(['dt', 'sunrise', 'sunset', 'temp', 'feels_like', 'pressure', 'humidity', 'weather', 'speed', 'deg', 'clouds'])\n"
     ]
    }
   ],
   "source": [
    "for each in weather.get('list'):\n",
    "    print(each.keys())"
   ]
  },
  {
   "cell_type": "code",
   "execution_count": 18,
   "metadata": {},
   "outputs": [
    {
     "name": "stdout",
     "output_type": "stream",
     "text": [
      "{'day': 40.63, 'min': 36.72, 'max': 44.16, 'night': 36.72, 'eve': 44.16, 'morn': 37}\n",
      "{'day': 44.82, 'min': 32.44, 'max': 46.53, 'night': 37.65, 'eve': 45.54, 'morn': 32.44}\n",
      "{'day': 44.98, 'min': 32.87, 'max': 47.37, 'night': 38, 'eve': 45.8, 'morn': 32.87}\n",
      "{'day': 44.51, 'min': 33.37, 'max': 47.06, 'night': 35.82, 'eve': 45.13, 'morn': 33.37}\n",
      "{'day': 42.82, 'min': 31.89, 'max': 46.11, 'night': 36.35, 'eve': 44, 'morn': 31.89}\n",
      "{'day': 41.87, 'min': 31.85, 'max': 44.12, 'night': 35.61, 'eve': 43.19, 'morn': 31.85}\n",
      "{'day': 41.3, 'min': 32.13, 'max': 43.84, 'night': 36.37, 'eve': 40.47, 'morn': 32.13}\n",
      "{'day': 40.84, 'min': 33.88, 'max': 42.22, 'night': 33.88, 'eve': 39.45, 'morn': 33.89}\n",
      "{'day': 39.8, 'min': 30.8, 'max': 41.3, 'night': 34.13, 'eve': 40.06, 'morn': 30.8}\n",
      "{'day': 39.4, 'min': 31.71, 'max': 41.27, 'night': 32.09, 'eve': 37.94, 'morn': 31.71}\n"
     ]
    }
   ],
   "source": [
    "for each in weather.get('list'):\n",
    "    print(each.get('temp'))"
   ]
  },
  {
   "cell_type": "code",
   "execution_count": 19,
   "metadata": {},
   "outputs": [
    {
     "name": "stdout",
     "output_type": "stream",
     "text": [
      "36.72\n",
      "32.44\n",
      "32.87\n",
      "33.37\n",
      "31.89\n",
      "31.85\n",
      "32.13\n",
      "33.88\n",
      "30.8\n",
      "31.71\n"
     ]
    }
   ],
   "source": [
    "for each in weather.get('list'):\n",
    "    print(each.get('temp').get('min'))"
   ]
  },
  {
   "cell_type": "code",
   "execution_count": 20,
   "metadata": {},
   "outputs": [
    {
     "name": "stdout",
     "output_type": "stream",
     "text": [
      "44.16\n",
      "46.53\n",
      "47.37\n",
      "47.06\n",
      "46.11\n",
      "44.12\n",
      "43.84\n",
      "42.22\n",
      "41.3\n",
      "41.27\n"
     ]
    }
   ],
   "source": [
    "for each in weather.get('list'):\n",
    "    print(each.get('temp').get('max'))"
   ]
  },
  {
   "cell_type": "code",
   "execution_count": 31,
   "metadata": {},
   "outputs": [
    {
     "name": "stdout",
     "output_type": "stream",
     "text": [
      "36.72 44.16 few clouds\n",
      "32.44 46.53 sky is clear\n",
      "32.87 47.37 few clouds\n",
      "33.37 47.06 scattered clouds\n",
      "31.89 46.11 sky is clear\n",
      "31.85 44.12 sky is clear\n",
      "32.13 43.84 light rain\n",
      "33.88 42.22 light rain\n",
      "30.8 41.3 light rain\n",
      "31.71 41.27 few clouds\n"
     ]
    }
   ],
   "source": [
    "for each in weather.get('list'):\n",
    "    print(each.get('temp').get('min'),each.get('temp').get('max'),each.get('weather')[0].get('description'))"
   ]
  },
  {
   "cell_type": "code",
   "execution_count": 32,
   "metadata": {},
   "outputs": [
    {
     "name": "stdout",
     "output_type": "stream",
     "text": [
      "Max : 36.72 \t Min : 44.16 \t Description : few clouds\n",
      "Max : 32.44 \t Min : 46.53 \t Description : sky is clear\n",
      "Max : 32.87 \t Min : 47.37 \t Description : few clouds\n",
      "Max : 33.37 \t Min : 47.06 \t Description : scattered clouds\n",
      "Max : 31.89 \t Min : 46.11 \t Description : sky is clear\n",
      "Max : 31.85 \t Min : 44.12 \t Description : sky is clear\n",
      "Max : 32.13 \t Min : 43.84 \t Description : light rain\n",
      "Max : 33.88 \t Min : 42.22 \t Description : light rain\n",
      "Max : 30.8 \t Min : 41.3 \t Description : light rain\n",
      "Max : 31.71 \t Min : 41.27 \t Description : few clouds\n"
     ]
    }
   ],
   "source": [
    "for each in weather.get('list'):\n",
    "    print(\"Max :\",each.get('temp').get('min'),\"\\t\",\"Min :\",each.get('temp').get('max'), '\\t',\"Description :\",each.get('weather')[0].get('description'))"
   ]
  },
  {
   "cell_type": "code",
   "execution_count": 23,
   "metadata": {},
   "outputs": [
    {
     "data": {
      "text/plain": [
       "'\\n  <tr>\\n    <td>55.45</td>\\n    <td>31.25</td>\\n    <td>Rainy</td>\\n  </tr>\\n \\n'"
      ]
     },
     "execution_count": 23,
     "metadata": {},
     "output_type": "execute_result"
    }
   ],
   "source": [
    "'''\n",
    "  <tr>\n",
    "    <td>55.45</td>\n",
    "    <td>31.25</td>\n",
    "    <td>Rainy</td>\n",
    "  </tr>\n",
    " \n",
    "'''"
   ]
  },
  {
   "cell_type": "code",
   "execution_count": null,
   "metadata": {},
   "outputs": [],
   "source": [
    "for each in weather.get('list'):\n",
    "    print(\"Max :\",each.get('temp').get('min'),\"\\t\",\"Min :\",each.get('temp').get('max'), '\\t',\"Description :\",each.get('weather')[0].get('description'))"
   ]
  },
  {
   "cell_type": "code",
   "execution_count": 34,
   "metadata": {},
   "outputs": [
    {
     "name": "stdout",
     "output_type": "stream",
     "text": [
      "\n",
      "  <tr>\n",
      "    <td>41.27</td>\n",
      "    <td>31.71</td>\n",
      "    <td>few clouds</td>\n",
      "  </tr>\n",
      " \n",
      "\n"
     ]
    }
   ],
   "source": [
    "print('''\n",
    "  <tr>\n",
    "    <td>%s</td>\n",
    "    <td>%s</td>\n",
    "    <td>%s</td>\n",
    "  </tr>\n",
    " \n",
    "'''%(each.get('temp').get('max'),each.get('temp').get('min'),each.get('weather')[0].get('description')))"
   ]
  },
  {
   "cell_type": "code",
   "execution_count": 35,
   "metadata": {},
   "outputs": [
    {
     "name": "stdout",
     "output_type": "stream",
     "text": [
      "<tr><td>44.16</td><td>36.72</td><td>few clouds</td></tr>\n",
      "<tr><td>46.53</td><td>32.44</td><td>sky is clear</td></tr>\n",
      "<tr><td>47.37</td><td>32.87</td><td>few clouds</td></tr>\n",
      "<tr><td>47.06</td><td>33.37</td><td>scattered clouds</td></tr>\n",
      "<tr><td>46.11</td><td>31.89</td><td>sky is clear</td></tr>\n",
      "<tr><td>44.12</td><td>31.85</td><td>sky is clear</td></tr>\n",
      "<tr><td>43.84</td><td>32.13</td><td>light rain</td></tr>\n",
      "<tr><td>42.22</td><td>33.88</td><td>light rain</td></tr>\n",
      "<tr><td>41.3</td><td>30.8</td><td>light rain</td></tr>\n",
      "<tr><td>41.27</td><td>31.71</td><td>few clouds</td></tr>\n"
     ]
    }
   ],
   "source": [
    "for each in weather.get('list'):\n",
    "    print('''<tr><td>%s</td><td>%s</td><td>%s</td></tr>'''%(each.get('temp').get('max'),each.get('temp').get('min'),each.get('weather')[0].get('description')))"
   ]
  },
  {
   "cell_type": "code",
   "execution_count": null,
   "metadata": {},
   "outputs": [],
   "source": []
  }
 ],
 "metadata": {
  "kernelspec": {
   "display_name": "Python 3",
   "language": "python",
   "name": "python3"
  },
  "language_info": {
   "codemirror_mode": {
    "name": "ipython",
    "version": 3
   },
   "file_extension": ".py",
   "mimetype": "text/x-python",
   "name": "python",
   "nbconvert_exporter": "python",
   "pygments_lexer": "ipython3",
   "version": "3.7.6"
  }
 },
 "nbformat": 4,
 "nbformat_minor": 2
}
