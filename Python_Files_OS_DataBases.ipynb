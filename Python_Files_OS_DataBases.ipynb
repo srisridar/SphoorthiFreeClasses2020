{
 "cells": [
  {
   "cell_type": "code",
   "execution_count": null,
   "metadata": {},
   "outputs": [],
   "source": []
  },
  {
   "cell_type": "code",
   "execution_count": null,
   "metadata": {},
   "outputs": [],
   "source": []
  },
  {
   "cell_type": "code",
   "execution_count": 1,
   "metadata": {},
   "outputs": [],
   "source": [
    "import os"
   ]
  },
  {
   "cell_type": "code",
   "execution_count": 2,
   "metadata": {},
   "outputs": [],
   "source": [
    "# print the current active working folder"
   ]
  },
  {
   "cell_type": "code",
   "execution_count": 3,
   "metadata": {},
   "outputs": [
    {
     "data": {
      "text/plain": [
       "'C:\\\\Users\\\\User\\\\Desktop\\\\SphoorthiOum\\\\notebooks'"
      ]
     },
     "execution_count": 3,
     "metadata": {},
     "output_type": "execute_result"
    }
   ],
   "source": [
    "os.getcwd()"
   ]
  },
  {
   "cell_type": "code",
   "execution_count": 6,
   "metadata": {},
   "outputs": [
    {
     "data": {
      "text/plain": [
       "'\\\\u'"
      ]
     },
     "execution_count": 6,
     "metadata": {},
     "output_type": "execute_result"
    }
   ],
   "source": [
    "\"\\\\u\""
   ]
  },
  {
   "cell_type": "code",
   "execution_count": 7,
   "metadata": {},
   "outputs": [],
   "source": [
    "# list all the files/content of a folder"
   ]
  },
  {
   "cell_type": "code",
   "execution_count": 8,
   "metadata": {},
   "outputs": [],
   "source": [
    "# os.listdir(PATHNAME)\n",
    "# if you're listing out the content of current folder, just enter '.'"
   ]
  },
  {
   "cell_type": "code",
   "execution_count": 9,
   "metadata": {},
   "outputs": [
    {
     "data": {
      "text/plain": [
       "['.ipynb_checkpoints',\n",
       " 'Assignments-May-25.ipynb',\n",
       " 'Dictionary-1.ipynb',\n",
       " 'Python_Files_OS.ipynb',\n",
       " 'wordCount.ipynb']"
      ]
     },
     "execution_count": 9,
     "metadata": {},
     "output_type": "execute_result"
    }
   ],
   "source": [
    "os.listdir('.')"
   ]
  },
  {
   "cell_type": "code",
   "execution_count": 10,
   "metadata": {},
   "outputs": [],
   "source": [
    "# craeting a folder/dir\n",
    "# os.mkdir(\"name of the folder\")"
   ]
  },
  {
   "cell_type": "code",
   "execution_count": 11,
   "metadata": {},
   "outputs": [],
   "source": [
    "os.mkdir(\"pythonfiles\")"
   ]
  },
  {
   "cell_type": "code",
   "execution_count": 12,
   "metadata": {},
   "outputs": [
    {
     "data": {
      "text/plain": [
       "['.ipynb_checkpoints',\n",
       " 'Assignments-May-25.ipynb',\n",
       " 'Dictionary-1.ipynb',\n",
       " 'pythonfiles',\n",
       " 'Python_Files_OS.ipynb',\n",
       " 'wordCount.ipynb']"
      ]
     },
     "execution_count": 12,
     "metadata": {},
     "output_type": "execute_result"
    }
   ],
   "source": [
    "os.listdir('.')"
   ]
  },
  {
   "cell_type": "code",
   "execution_count": 13,
   "metadata": {},
   "outputs": [
    {
     "data": {
      "text/plain": [
       "'C:\\\\Users\\\\User\\\\Desktop\\\\SphoorthiOum\\\\notebooks'"
      ]
     },
     "execution_count": 13,
     "metadata": {},
     "output_type": "execute_result"
    }
   ],
   "source": [
    "os.getcwd()"
   ]
  },
  {
   "cell_type": "code",
   "execution_count": 14,
   "metadata": {},
   "outputs": [
    {
     "data": {
      "text/plain": [
       "['.ipynb_checkpoints',\n",
       " 'Assignments-May-25.ipynb',\n",
       " 'Dictionary-1.ipynb',\n",
       " 'pythonfiles',\n",
       " 'Python_Files_OS.ipynb',\n",
       " 'wordCount.ipynb']"
      ]
     },
     "execution_count": 14,
     "metadata": {},
     "output_type": "execute_result"
    }
   ],
   "source": [
    "os.listdir('C:\\\\Users\\\\User\\\\Desktop\\\\SphoorthiOum\\\\notebooks')"
   ]
  },
  {
   "cell_type": "code",
   "execution_count": 15,
   "metadata": {},
   "outputs": [
    {
     "data": {
      "text/plain": [
       "['.ipynb_checkpoints',\n",
       " 'Assignments-May-25.ipynb',\n",
       " 'Dictionary-1.ipynb',\n",
       " 'pythonfiles',\n",
       " 'Python_Files_OS.ipynb',\n",
       " 'wordCount.ipynb']"
      ]
     },
     "execution_count": 15,
     "metadata": {},
     "output_type": "execute_result"
    }
   ],
   "source": [
    "os.listdir(os.getcwd())"
   ]
  },
  {
   "cell_type": "code",
   "execution_count": 16,
   "metadata": {},
   "outputs": [],
   "source": [
    "# changing directory from one folder to another folder\n",
    "# cd folderName"
   ]
  },
  {
   "cell_type": "code",
   "execution_count": 17,
   "metadata": {},
   "outputs": [],
   "source": [
    "os.chdir('pythonfiles')"
   ]
  },
  {
   "cell_type": "code",
   "execution_count": 18,
   "metadata": {},
   "outputs": [
    {
     "data": {
      "text/plain": [
       "'C:\\\\Users\\\\User\\\\Desktop\\\\SphoorthiOum\\\\notebooks\\\\pythonfiles'"
      ]
     },
     "execution_count": 18,
     "metadata": {},
     "output_type": "execute_result"
    }
   ],
   "source": [
    "os.getcwd()"
   ]
  },
  {
   "cell_type": "code",
   "execution_count": null,
   "metadata": {},
   "outputs": [],
   "source": []
  },
  {
   "cell_type": "code",
   "execution_count": 19,
   "metadata": {},
   "outputs": [
    {
     "data": {
      "text/plain": [
       "False"
      ]
     },
     "execution_count": 19,
     "metadata": {},
     "output_type": "execute_result"
    }
   ],
   "source": [
    "\"sring.py\" in os.listdir('.')"
   ]
  },
  {
   "cell_type": "code",
   "execution_count": 20,
   "metadata": {},
   "outputs": [
    {
     "data": {
      "text/plain": [
       "False"
      ]
     },
     "execution_count": 20,
     "metadata": {},
     "output_type": "execute_result"
    }
   ],
   "source": [
    "'Assignments-May-25.ipynb' in os.listdir('.')"
   ]
  },
  {
   "cell_type": "code",
   "execution_count": 21,
   "metadata": {},
   "outputs": [
    {
     "data": {
      "text/plain": [
       "True"
      ]
     },
     "execution_count": 21,
     "metadata": {},
     "output_type": "execute_result"
    }
   ],
   "source": [
    "'Assignments-May-25.ipynb' in os.listdir('C:\\\\Users\\\\User\\\\Desktop\\\\SphoorthiOum\\\\notebooks')"
   ]
  },
  {
   "cell_type": "code",
   "execution_count": null,
   "metadata": {},
   "outputs": [],
   "source": []
  },
  {
   "cell_type": "code",
   "execution_count": 22,
   "metadata": {},
   "outputs": [],
   "source": [
    "## Files"
   ]
  },
  {
   "cell_type": "code",
   "execution_count": 25,
   "metadata": {},
   "outputs": [
    {
     "data": {
      "text/plain": [
       "['sample.txt']"
      ]
     },
     "execution_count": 25,
     "metadata": {},
     "output_type": "execute_result"
    }
   ],
   "source": [
    "os.listdir('.')"
   ]
  },
  {
   "cell_type": "code",
   "execution_count": 26,
   "metadata": {},
   "outputs": [],
   "source": [
    "# opening a file to read the content"
   ]
  },
  {
   "cell_type": "code",
   "execution_count": 27,
   "metadata": {},
   "outputs": [],
   "source": [
    "# we are openign the file in read mode"
   ]
  },
  {
   "cell_type": "code",
   "execution_count": 28,
   "metadata": {},
   "outputs": [],
   "source": [
    "# syntax to open a file in read mode / write mode"
   ]
  },
  {
   "cell_type": "code",
   "execution_count": 31,
   "metadata": {},
   "outputs": [],
   "source": [
    "# we pass mode as an argument into open function"
   ]
  },
  {
   "cell_type": "code",
   "execution_count": null,
   "metadata": {},
   "outputs": [],
   "source": [
    "# open() -> 2 args\n",
    "# 1st - FileName\n",
    "# 2nd - mode \n",
    "#       - 'r' for read\n",
    "#       - 'w 'for write\n",
    "#       - 'a' for append"
   ]
  },
  {
   "cell_type": "code",
   "execution_count": 30,
   "metadata": {},
   "outputs": [],
   "source": [
    "# fileObj = open(\"filename\",\"r\") -> reading a file ( r means read)\n",
    "# fileObj = open(\"filename\",\"w\") -> writing a file ( w means write)"
   ]
  },
  {
   "cell_type": "code",
   "execution_count": 39,
   "metadata": {},
   "outputs": [],
   "source": [
    "fh=open('sample.txt',\"r\")"
   ]
  },
  {
   "cell_type": "code",
   "execution_count": 34,
   "metadata": {},
   "outputs": [],
   "source": [
    "# to read, we apply .read() method on the file objct\n",
    "# fh.read()"
   ]
  },
  {
   "cell_type": "code",
   "execution_count": 40,
   "metadata": {},
   "outputs": [],
   "source": [
    "text=fh.read()"
   ]
  },
  {
   "cell_type": "code",
   "execution_count": 41,
   "metadata": {},
   "outputs": [
    {
     "data": {
      "text/plain": [
       "'line1\\nline2\\nline3\\nline4\\nline5\\n1111'"
      ]
     },
     "execution_count": 41,
     "metadata": {},
     "output_type": "execute_result"
    }
   ],
   "source": [
    "text"
   ]
  },
  {
   "cell_type": "code",
   "execution_count": 42,
   "metadata": {},
   "outputs": [],
   "source": [
    "fh.close()"
   ]
  },
  {
   "cell_type": "code",
   "execution_count": 43,
   "metadata": {},
   "outputs": [
    {
     "data": {
      "text/plain": [
       "<_io.TextIOWrapper name='sample.txt' mode='r' encoding='cp1252'>"
      ]
     },
     "execution_count": 43,
     "metadata": {},
     "output_type": "execute_result"
    }
   ],
   "source": [
    "fh"
   ]
  },
  {
   "cell_type": "code",
   "execution_count": 44,
   "metadata": {},
   "outputs": [],
   "source": [
    "# write"
   ]
  },
  {
   "cell_type": "code",
   "execution_count": 45,
   "metadata": {},
   "outputs": [],
   "source": [
    "fhh=open(\"newfile.csv\",\"w\")"
   ]
  },
  {
   "cell_type": "code",
   "execution_count": 46,
   "metadata": {},
   "outputs": [],
   "source": [
    "fhh=open(\"sample2.txt\",\"w\")"
   ]
  },
  {
   "cell_type": "code",
   "execution_count": 47,
   "metadata": {},
   "outputs": [
    {
     "data": {
      "text/plain": [
       "34"
      ]
     },
     "execution_count": 47,
     "metadata": {},
     "output_type": "execute_result"
    }
   ],
   "source": [
    "fhh.write(text)"
   ]
  },
  {
   "cell_type": "code",
   "execution_count": 48,
   "metadata": {},
   "outputs": [],
   "source": [
    "fhh.close()"
   ]
  },
  {
   "cell_type": "code",
   "execution_count": null,
   "metadata": {},
   "outputs": [],
   "source": []
  },
  {
   "cell_type": "code",
   "execution_count": null,
   "metadata": {},
   "outputs": [],
   "source": []
  },
  {
   "cell_type": "code",
   "execution_count": 49,
   "metadata": {},
   "outputs": [],
   "source": [
    "# DataBases"
   ]
  },
  {
   "cell_type": "code",
   "execution_count": 50,
   "metadata": {},
   "outputs": [],
   "source": [
    "import sqlite3"
   ]
  },
  {
   "cell_type": "code",
   "execution_count": 51,
   "metadata": {},
   "outputs": [
    {
     "data": {
      "text/plain": [
       "'C:\\\\Users\\\\User\\\\Desktop\\\\SphoorthiOum\\\\notebooks\\\\pythonfiles'"
      ]
     },
     "execution_count": 51,
     "metadata": {},
     "output_type": "execute_result"
    }
   ],
   "source": [
    "os.getcwd()"
   ]
  },
  {
   "cell_type": "code",
   "execution_count": 52,
   "metadata": {},
   "outputs": [],
   "source": [
    "os.mkdir('C:\\\\Users\\\\User\\\\Desktop\\\\SphoorthiOum\\\\notebooks\\\\Database')"
   ]
  },
  {
   "cell_type": "code",
   "execution_count": 53,
   "metadata": {},
   "outputs": [],
   "source": [
    "os.chdir('C:\\\\Users\\\\User\\\\Desktop\\\\SphoorthiOum\\\\notebooks\\\\Database')"
   ]
  },
  {
   "cell_type": "code",
   "execution_count": 54,
   "metadata": {},
   "outputs": [
    {
     "data": {
      "text/plain": [
       "'C:\\\\Users\\\\User\\\\Desktop\\\\SphoorthiOum\\\\notebooks\\\\Database'"
      ]
     },
     "execution_count": 54,
     "metadata": {},
     "output_type": "execute_result"
    }
   ],
   "source": [
    "os.getcwd()"
   ]
  },
  {
   "cell_type": "code",
   "execution_count": null,
   "metadata": {},
   "outputs": [],
   "source": []
  },
  {
   "cell_type": "code",
   "execution_count": 55,
   "metadata": {},
   "outputs": [],
   "source": [
    "# creating a connection\n",
    "# connobj = sqlite3.connect(\"DataBasename.db\")"
   ]
  },
  {
   "cell_type": "code",
   "execution_count": 56,
   "metadata": {},
   "outputs": [],
   "source": [
    "conn=sqlite3.connect(\"employees.db\")"
   ]
  },
  {
   "cell_type": "code",
   "execution_count": 57,
   "metadata": {},
   "outputs": [],
   "source": [
    "# create a table\n",
    "# https://www.w3schools.com/sql/sql_create_table.asp"
   ]
  },
  {
   "cell_type": "code",
   "execution_count": 58,
   "metadata": {},
   "outputs": [],
   "source": [
    "createtable=\"\"\"CREATE TABLE employees( id integer,  name    text,\n",
    "                          designation text,     manager integer,\n",
    "                          hired_on    date,     salary  integer,\n",
    "                          commission  float,    dept    integer);\"\"\""
   ]
  },
  {
   "cell_type": "code",
   "execution_count": 59,
   "metadata": {},
   "outputs": [],
   "source": [
    "# execute a query"
   ]
  },
  {
   "cell_type": "code",
   "execution_count": 61,
   "metadata": {},
   "outputs": [],
   "source": [
    "# we use .execute method to run queries\n",
    "# we run queries on conn object"
   ]
  },
  {
   "cell_type": "code",
   "execution_count": 62,
   "metadata": {},
   "outputs": [
    {
     "data": {
      "text/plain": [
       "<sqlite3.Cursor at 0xa8cd603b20>"
      ]
     },
     "execution_count": 62,
     "metadata": {},
     "output_type": "execute_result"
    }
   ],
   "source": [
    "conn.execute(createtable)"
   ]
  },
  {
   "cell_type": "code",
   "execution_count": 63,
   "metadata": {},
   "outputs": [],
   "source": [
    "# creating something"
   ]
  },
  {
   "cell_type": "code",
   "execution_count": 64,
   "metadata": {},
   "outputs": [],
   "source": [
    "conn.commit()"
   ]
  },
  {
   "cell_type": "code",
   "execution_count": 65,
   "metadata": {},
   "outputs": [],
   "source": [
    "# Insert values into the table\n",
    "# https://www.w3schools.com/sql/sql_insert.asp"
   ]
  },
  {
   "cell_type": "code",
   "execution_count": 66,
   "metadata": {},
   "outputs": [],
   "source": [
    "item=\"\"\"INSERT INTO employees VALUES (1,'JOHNSON','ADMIN',6,'1990-12-17',18000,NULL,4);\"\"\""
   ]
  },
  {
   "cell_type": "code",
   "execution_count": 67,
   "metadata": {},
   "outputs": [
    {
     "data": {
      "text/plain": [
       "<sqlite3.Cursor at 0xa8cd6037a0>"
      ]
     },
     "execution_count": 67,
     "metadata": {},
     "output_type": "execute_result"
    }
   ],
   "source": [
    "conn.execute(item)"
   ]
  },
  {
   "cell_type": "code",
   "execution_count": 68,
   "metadata": {},
   "outputs": [],
   "source": [
    "conn.commit()"
   ]
  },
  {
   "cell_type": "code",
   "execution_count": 69,
   "metadata": {},
   "outputs": [],
   "source": [
    "item2=\"\"\"INSERT INTO employees VALUES (2,'HARDING','MANAGER',9,'1998-02-02',52000,300,3);\"\"\""
   ]
  },
  {
   "cell_type": "code",
   "execution_count": 70,
   "metadata": {},
   "outputs": [
    {
     "data": {
      "text/plain": [
       "<sqlite3.Cursor at 0xa8cd773650>"
      ]
     },
     "execution_count": 70,
     "metadata": {},
     "output_type": "execute_result"
    }
   ],
   "source": [
    "conn.execute(item2)"
   ]
  },
  {
   "cell_type": "code",
   "execution_count": 71,
   "metadata": {},
   "outputs": [],
   "source": [
    "conn.commit()"
   ]
  },
  {
   "cell_type": "code",
   "execution_count": 73,
   "metadata": {},
   "outputs": [],
   "source": [
    "# adding multiple values to a sqlite DB at once"
   ]
  },
  {
   "cell_type": "code",
   "execution_count": 74,
   "metadata": {},
   "outputs": [],
   "source": [
    "# conn.executemany(Query)"
   ]
  },
  {
   "cell_type": "code",
   "execution_count": 75,
   "metadata": {},
   "outputs": [],
   "source": [
    "# rows of data"
   ]
  },
  {
   "cell_type": "code",
   "execution_count": 78,
   "metadata": {},
   "outputs": [
    {
     "data": {
      "text/plain": [
       "[(3, 'TAFT', 'SALES I', 2, '1996-01-02', 25000, 500, 3),\n",
       " (4, 'HOOVER', 'SALES I', 2, '1990-04-02', 27000, None, 3),\n",
       " (5, 'LINCOLN', 'TECH', 6, '1994-06-23', 22500, 1400, 4),\n",
       " (6, 'GARFIELD', 'MANAGER', 9, '1993-05-01', 54000, None, 4),\n",
       " (7, 'POLK', 'TECH', 6, '1997-09-22', 25000, None, 4),\n",
       " (8, 'GRANT', 'ENGINEER', 10, '1997-03-30', 32000, None, 2),\n",
       " (9, 'JACKSON', 'CEO', None, '1990-01-01', 75000, None, 4),\n",
       " (10, 'FILLMORE', 'MANAGER', 9, '1994-08-09', 56000, None, 2)]"
      ]
     },
     "execution_count": 78,
     "metadata": {},
     "output_type": "execute_result"
    }
   ],
   "source": [
    "rows=[\n",
    "    (3,'TAFT','SALES I',2,'1996-01-02',25000,500,3),\n",
    "    (4,'HOOVER','SALES I',2,'1990-04-02',27000,None,3),\n",
    "    (5,'LINCOLN','TECH',6,'1994-06-23',22500,1400,4),\n",
    "(6,'GARFIELD','MANAGER',9,'1993-05-01',54000,None,4),\n",
    "(7,'POLK','TECH',6,'1997-09-22',25000,None,4),\n",
    "(8,'GRANT','ENGINEER',10,'1997-03-30',32000,None,2),\n",
    "(9,'JACKSON','CEO',None,'1990-01-01',75000,None,4),\n",
    "(10,'FILLMORE','MANAGER',9,'1994-08-09',56000,None,2),\n",
    "]\n",
    "rows"
   ]
  },
  {
   "cell_type": "code",
   "execution_count": 79,
   "metadata": {},
   "outputs": [],
   "source": [
    "d={\n",
    "\"day\": 42.15,\n",
    "\"min\": 37.75,\n",
    "\"max\": 45.29,\n",
    "\"night\": 37.75,\n",
    "\"eve\": 44.39,\n",
    "\"morn\": 39.61\n",
    "}"
   ]
  },
  {
   "cell_type": "code",
   "execution_count": 80,
   "metadata": {},
   "outputs": [
    {
     "data": {
      "text/plain": [
       "{'day': 42.15,\n",
       " 'min': 37.75,\n",
       " 'max': 45.29,\n",
       " 'night': 37.75,\n",
       " 'eve': 44.39,\n",
       " 'morn': 39.61}"
      ]
     },
     "execution_count": 80,
     "metadata": {},
     "output_type": "execute_result"
    }
   ],
   "source": [
    "d"
   ]
  },
  {
   "cell_type": "code",
   "execution_count": 82,
   "metadata": {},
   "outputs": [
    {
     "data": {
      "text/plain": [
       "[('day', 42.15),\n",
       " ('min', 37.75),\n",
       " ('max', 45.29),\n",
       " ('night', 37.75),\n",
       " ('eve', 44.39),\n",
       " ('morn', 39.61)]"
      ]
     },
     "execution_count": 82,
     "metadata": {},
     "output_type": "execute_result"
    }
   ],
   "source": [
    "list(d.items())"
   ]
  },
  {
   "cell_type": "code",
   "execution_count": 83,
   "metadata": {},
   "outputs": [],
   "source": [
    "many_query=\"INSERT INTO employees VALUES(?,?,?,?,?,?,?,?) \""
   ]
  },
  {
   "cell_type": "code",
   "execution_count": 84,
   "metadata": {},
   "outputs": [
    {
     "data": {
      "text/plain": [
       "<sqlite3.Cursor at 0xa8cd8f9c70>"
      ]
     },
     "execution_count": 84,
     "metadata": {},
     "output_type": "execute_result"
    }
   ],
   "source": [
    "conn.executemany(many_query,rows)"
   ]
  },
  {
   "cell_type": "code",
   "execution_count": 85,
   "metadata": {},
   "outputs": [],
   "source": [
    "conn.commit()"
   ]
  },
  {
   "cell_type": "code",
   "execution_count": null,
   "metadata": {},
   "outputs": [],
   "source": []
  },
  {
   "cell_type": "code",
   "execution_count": 86,
   "metadata": {},
   "outputs": [],
   "source": [
    "# data retirevals / mnpltn"
   ]
  },
  {
   "cell_type": "code",
   "execution_count": 87,
   "metadata": {},
   "outputs": [],
   "source": [
    "# https://www.w3schools.com/sql/sql_select.asp"
   ]
  },
  {
   "cell_type": "code",
   "execution_count": 88,
   "metadata": {},
   "outputs": [],
   "source": [
    "select_query=\"\"\"Select * from employees\"\"\""
   ]
  },
  {
   "cell_type": "code",
   "execution_count": 90,
   "metadata": {},
   "outputs": [],
   "source": [
    "data=conn.execute(select_query)"
   ]
  },
  {
   "cell_type": "code",
   "execution_count": 91,
   "metadata": {},
   "outputs": [],
   "source": [
    "# to print/extract all the data, we need to run a for loop"
   ]
  },
  {
   "cell_type": "code",
   "execution_count": 93,
   "metadata": {},
   "outputs": [
    {
     "name": "stdout",
     "output_type": "stream",
     "text": [
      "(2, 'HARDING', 'MANAGER', 9, '1998-02-02', 52000, 300.0, 3)\n",
      "(3, 'TAFT', 'SALES I', 2, '1996-01-02', 25000, 500.0, 3)\n",
      "(4, 'HOOVER', 'SALES I', 2, '1990-04-02', 27000, None, 3)\n",
      "(5, 'LINCOLN', 'TECH', 6, '1994-06-23', 22500, 1400.0, 4)\n",
      "(6, 'GARFIELD', 'MANAGER', 9, '1993-05-01', 54000, None, 4)\n",
      "(7, 'POLK', 'TECH', 6, '1997-09-22', 25000, None, 4)\n",
      "(8, 'GRANT', 'ENGINEER', 10, '1997-03-30', 32000, None, 2)\n",
      "(9, 'JACKSON', 'CEO', None, '1990-01-01', 75000, None, 4)\n",
      "(10, 'FILLMORE', 'MANAGER', 9, '1994-08-09', 56000, None, 2)\n"
     ]
    }
   ],
   "source": [
    "for eachline in data:\n",
    "    print(eachline)"
   ]
  },
  {
   "cell_type": "code",
   "execution_count": 94,
   "metadata": {},
   "outputs": [
    {
     "name": "stdout",
     "output_type": "stream",
     "text": [
      "('JOHNSON',)\n",
      "('HARDING',)\n",
      "('TAFT',)\n",
      "('HOOVER',)\n",
      "('LINCOLN',)\n",
      "('GARFIELD',)\n",
      "('POLK',)\n",
      "('GRANT',)\n",
      "('JACKSON',)\n",
      "('FILLMORE',)\n"
     ]
    }
   ],
   "source": [
    "for eachline in conn.execute(\"select name from employees\"):\n",
    "    print(eachline)"
   ]
  },
  {
   "cell_type": "code",
   "execution_count": 95,
   "metadata": {},
   "outputs": [
    {
     "name": "stdout",
     "output_type": "stream",
     "text": [
      "('JOHNSON', 'ADMIN')\n",
      "('HARDING', 'MANAGER')\n",
      "('TAFT', 'SALES I')\n",
      "('HOOVER', 'SALES I')\n",
      "('LINCOLN', 'TECH')\n",
      "('GARFIELD', 'MANAGER')\n",
      "('POLK', 'TECH')\n",
      "('GRANT', 'ENGINEER')\n",
      "('JACKSON', 'CEO')\n",
      "('FILLMORE', 'MANAGER')\n"
     ]
    }
   ],
   "source": [
    "for eachline in conn.execute(\"select name,designation from employees\"):\n",
    "    print(eachline)"
   ]
  },
  {
   "cell_type": "code",
   "execution_count": 101,
   "metadata": {},
   "outputs": [
    {
     "name": "stdout",
     "output_type": "stream",
     "text": [
      "enter the col you want to seemanager\n"
     ]
    }
   ],
   "source": [
    "col=input(\"enter the col you want to see\")"
   ]
  },
  {
   "cell_type": "code",
   "execution_count": 105,
   "metadata": {},
   "outputs": [],
   "source": [
    "qry=\"select %s from employees\"%(col)"
   ]
  },
  {
   "cell_type": "code",
   "execution_count": 103,
   "metadata": {},
   "outputs": [
    {
     "name": "stdout",
     "output_type": "stream",
     "text": [
      "(6,)\n",
      "(9,)\n",
      "(2,)\n",
      "(2,)\n",
      "(6,)\n",
      "(9,)\n",
      "(6,)\n",
      "(10,)\n",
      "(None,)\n",
      "(9,)\n"
     ]
    }
   ],
   "source": [
    "for eachline in conn.execute(qry):\n",
    "    print(eachline)"
   ]
  },
  {
   "cell_type": "code",
   "execution_count": null,
   "metadata": {},
   "outputs": [],
   "source": []
  }
 ],
 "metadata": {
  "kernelspec": {
   "display_name": "Python 3",
   "language": "python",
   "name": "python3"
  },
  "language_info": {
   "codemirror_mode": {
    "name": "ipython",
    "version": 3
   },
   "file_extension": ".py",
   "mimetype": "text/x-python",
   "name": "python",
   "nbconvert_exporter": "python",
   "pygments_lexer": "ipython3",
   "version": "3.7.6"
  }
 },
 "nbformat": 4,
 "nbformat_minor": 2
}
